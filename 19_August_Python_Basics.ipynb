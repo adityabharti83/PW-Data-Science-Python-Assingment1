{
 "cells": [
  {
   "cell_type": "code",
   "execution_count": null,
   "id": "ade0e32b",
   "metadata": {},
   "outputs": [],
   "source": [
    "# TOPIC: Python Basics Variable"
   ]
  },
  {
   "cell_type": "code",
   "execution_count": null,
   "id": "618f74aa",
   "metadata": {},
   "outputs": [],
   "source": [
    "#Declearing Two variable and swaping their values without third varible \n",
    "\n",
    "a=6\n",
    "b=5\n",
    "\n",
    "print('The values of variable are')\n",
    "print('a: ',a)\n",
    "print('b: ',b)\n",
    "\n",
    "#Swaping variables \n",
    "\n",
    "a,b=b,a\n",
    "\n",
    "print('After swaping variables') \n",
    "\n",
    "print('a: ',a)\n",
    "print('b: ',b)"
   ]
  },
  {
   "cell_type": "code",
   "execution_count": null,
   "id": "7fd34f75",
   "metadata": {},
   "outputs": [],
   "source": [
    "#Find the area of Rectangle by taking input from user \n",
    "\n",
    "width = float(input('Width of the rectangle: '))\n",
    "height = float(input('Height of the rectangle: '))\n",
    "\n",
    "# For calculating the area of the rectangle\n",
    "area = width * height\n",
    "\n",
    "print('The area of a rectangle for the input: ', str(area))"
   ]
  },
  {
   "cell_type": "code",
   "execution_count": null,
   "id": "df8d561f",
   "metadata": {},
   "outputs": [],
   "source": [
    "#converting the temprature from celsius to fahrenheit\n",
    "\n",
    "#temprature in celsius\n",
    "celsius= float (input('Temprature in celsius: '))\n",
    "\n",
    "#Convert into fahrenheit\n",
    "Fahrenheit = (celsius * (9/5)) + 35\n",
    "\n",
    "print('Temprature in Fahrenheit: ',Fahrenheit)"
   ]
  },
  {
   "cell_type": "markdown",
   "id": "4d89b37b",
   "metadata": {},
   "source": [
    "#TOPIC: String Based Questions"
   ]
  },
  {
   "cell_type": "code",
   "execution_count": 1,
   "id": "e1ed8e37",
   "metadata": {},
   "outputs": [
    {
     "name": "stdout",
     "output_type": "stream",
     "text": [
      "Enter the string: aditya\n",
      "The length of the input string is :  6\n"
     ]
    }
   ],
   "source": [
    "#Taking string input and calculating length\n",
    "#Taking string input\n",
    "\n",
    "string=str(input('Enter the string: '))\n",
    "\n",
    "#Calculate the string length\n",
    "\n",
    "print(\"The length of the input string is : \",len(string))"
   ]
  },
  {
   "cell_type": "code",
   "execution_count": 3,
   "id": "25f3fc49",
   "metadata": {},
   "outputs": [
    {
     "name": "stdout",
     "output_type": "stream",
     "text": [
      "Enter your sentence: Aditya\n",
      "Number of vowels: 3\n"
     ]
    }
   ],
   "source": [
    "#taking input sentence and calculate vowels in it \n",
    "\n",
    "string=str(input(\"Enter your sentence: \"))\n",
    "\n",
    "#Vowels \n",
    "Vowels=['A','E','I','O','U','a','e','i','o','u']\n",
    "\n",
    "#vowels count\n",
    "vowel_count = 0\n",
    "\n",
    "for char in string:\n",
    "    char_lower = char.lower()\n",
    "    if char_lower in \"aeiou\":\n",
    "        vowel_count += 1\n",
    "\n",
    "\n",
    "print(\"Number of vowels:\", vowel_count)"
   ]
  },
  {
   "cell_type": "code",
   "execution_count": 6,
   "id": "3989ee4a",
   "metadata": {},
   "outputs": [
    {
     "name": "stdout",
     "output_type": "stream",
     "text": [
      "Enter a string: Aditya\n",
      "Reversed string: aytidA\n"
     ]
    }
   ],
   "source": [
    "#Reverse the order of the string \n",
    "\n",
    "\n",
    "string = input(\"Enter a string: \")\n",
    "\n",
    "reversed_string = string[::-1]\n",
    "\n",
    "print(\"Reversed string:\", reversed_string)"
   ]
  },
  {
   "cell_type": "code",
   "execution_count": 7,
   "id": "54633db3",
   "metadata": {},
   "outputs": [
    {
     "name": "stdout",
     "output_type": "stream",
     "text": [
      "Enter a string: Aditya\n",
      "The input string is not a palindrome.\n"
     ]
    }
   ],
   "source": [
    "#Check for Palindrome \n",
    "\n",
    "string = input(\"Enter a string: \")\n",
    "\n",
    "cleaned_string = string.replace(\" \", \"\").lower()\n",
    "\n",
    "reversed_string = cleaned_string[::-1]\n",
    "\n",
    "if cleaned_string == reversed_string:\n",
    "    print(\"The input string is a palindrome.\")\n",
    "else:\n",
    "    print(\"The input string is not a palindrome.\")"
   ]
  },
  {
   "cell_type": "code",
   "execution_count": 8,
   "id": "4e200b1e",
   "metadata": {},
   "outputs": [
    {
     "name": "stdout",
     "output_type": "stream",
     "text": [
      "Enter a string: Aditya Bharti\n",
      "Modified string without spaces: AdityaBharti\n"
     ]
    }
   ],
   "source": [
    "#remove the space from the input string \n",
    "\n",
    "string = input(\"Enter a string: \")\n",
    "\n",
    "modified_string = \"\"\n",
    "\n",
    "for char in string:\n",
    "    if char != \" \":\n",
    "        modified_string += char\n",
    "\n",
    "print(\"Modified string without spaces:\", modified_string)"
   ]
  },
  {
   "cell_type": "code",
   "execution_count": null,
   "id": "dd4c98b7",
   "metadata": {},
   "outputs": [],
   "source": []
  }
 ],
 "metadata": {
  "kernelspec": {
   "display_name": "Python 3 (ipykernel)",
   "language": "python",
   "name": "python3"
  },
  "language_info": {
   "codemirror_mode": {
    "name": "ipython",
    "version": 3
   },
   "file_extension": ".py",
   "mimetype": "text/x-python",
   "name": "python",
   "nbconvert_exporter": "python",
   "pygments_lexer": "ipython3",
   "version": "3.11.3"
  }
 },
 "nbformat": 4,
 "nbformat_minor": 5
}
